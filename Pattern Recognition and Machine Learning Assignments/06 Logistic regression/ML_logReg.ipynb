{
  "nbformat": 4,
  "nbformat_minor": 0,
  "metadata": {
    "colab": {
      "name": "ML_logReg.ipynb",
      "provenance": [],
      "collapsed_sections": []
    },
    "kernelspec": {
      "name": "python3",
      "display_name": "Python 3"
    },
    "language_info": {
      "name": "python"
    }
  },
  "cells": [
    {
      "cell_type": "code",
      "execution_count": 14,
      "metadata": {
        "id": "0aBfSD7S0PL8"
      },
      "outputs": [],
      "source": [
        "import numpy as np\n",
        "import matplotlib.pyplot as plt\n",
        "import pandas as pd\n",
        "from sklearn.linear_model import LogisticRegression\n",
        "from sklearn.model_selection import KFold\n",
        "from sklearn.model_selection import RepeatedKFold"
      ]
    },
    {
      "cell_type": "code",
      "source": [
        "df = pd.read_csv(\"./sample.csv\")\n",
        "df.head()"
      ],
      "metadata": {
        "colab": {
          "base_uri": "https://localhost:8080/",
          "height": 206
        },
        "id": "DLrRdMnP2h40",
        "outputId": "810803bb-770b-421d-b3b3-31be2f6dcb20"
      },
      "execution_count": 25,
      "outputs": [
        {
          "output_type": "execute_result",
          "data": {
            "text/plain": [
              "   female  read  write  math  hon  femalexmath\n",
              "0       0    57     52    41    0            0\n",
              "1       1    68     59    53    0           53\n",
              "2       0    44     33    54    0            0\n",
              "3       0    63     44    47    0            0\n",
              "4       0    47     52    57    0            0"
            ],
            "text/html": [
              "\n",
              "  <div id=\"df-02053d49-d7a5-4669-94a5-e64f54cddea4\">\n",
              "    <div class=\"colab-df-container\">\n",
              "      <div>\n",
              "<style scoped>\n",
              "    .dataframe tbody tr th:only-of-type {\n",
              "        vertical-align: middle;\n",
              "    }\n",
              "\n",
              "    .dataframe tbody tr th {\n",
              "        vertical-align: top;\n",
              "    }\n",
              "\n",
              "    .dataframe thead th {\n",
              "        text-align: right;\n",
              "    }\n",
              "</style>\n",
              "<table border=\"1\" class=\"dataframe\">\n",
              "  <thead>\n",
              "    <tr style=\"text-align: right;\">\n",
              "      <th></th>\n",
              "      <th>female</th>\n",
              "      <th>read</th>\n",
              "      <th>write</th>\n",
              "      <th>math</th>\n",
              "      <th>hon</th>\n",
              "      <th>femalexmath</th>\n",
              "    </tr>\n",
              "  </thead>\n",
              "  <tbody>\n",
              "    <tr>\n",
              "      <th>0</th>\n",
              "      <td>0</td>\n",
              "      <td>57</td>\n",
              "      <td>52</td>\n",
              "      <td>41</td>\n",
              "      <td>0</td>\n",
              "      <td>0</td>\n",
              "    </tr>\n",
              "    <tr>\n",
              "      <th>1</th>\n",
              "      <td>1</td>\n",
              "      <td>68</td>\n",
              "      <td>59</td>\n",
              "      <td>53</td>\n",
              "      <td>0</td>\n",
              "      <td>53</td>\n",
              "    </tr>\n",
              "    <tr>\n",
              "      <th>2</th>\n",
              "      <td>0</td>\n",
              "      <td>44</td>\n",
              "      <td>33</td>\n",
              "      <td>54</td>\n",
              "      <td>0</td>\n",
              "      <td>0</td>\n",
              "    </tr>\n",
              "    <tr>\n",
              "      <th>3</th>\n",
              "      <td>0</td>\n",
              "      <td>63</td>\n",
              "      <td>44</td>\n",
              "      <td>47</td>\n",
              "      <td>0</td>\n",
              "      <td>0</td>\n",
              "    </tr>\n",
              "    <tr>\n",
              "      <th>4</th>\n",
              "      <td>0</td>\n",
              "      <td>47</td>\n",
              "      <td>52</td>\n",
              "      <td>57</td>\n",
              "      <td>0</td>\n",
              "      <td>0</td>\n",
              "    </tr>\n",
              "  </tbody>\n",
              "</table>\n",
              "</div>\n",
              "      <button class=\"colab-df-convert\" onclick=\"convertToInteractive('df-02053d49-d7a5-4669-94a5-e64f54cddea4')\"\n",
              "              title=\"Convert this dataframe to an interactive table.\"\n",
              "              style=\"display:none;\">\n",
              "        \n",
              "  <svg xmlns=\"http://www.w3.org/2000/svg\" height=\"24px\"viewBox=\"0 0 24 24\"\n",
              "       width=\"24px\">\n",
              "    <path d=\"M0 0h24v24H0V0z\" fill=\"none\"/>\n",
              "    <path d=\"M18.56 5.44l.94 2.06.94-2.06 2.06-.94-2.06-.94-.94-2.06-.94 2.06-2.06.94zm-11 1L8.5 8.5l.94-2.06 2.06-.94-2.06-.94L8.5 2.5l-.94 2.06-2.06.94zm10 10l.94 2.06.94-2.06 2.06-.94-2.06-.94-.94-2.06-.94 2.06-2.06.94z\"/><path d=\"M17.41 7.96l-1.37-1.37c-.4-.4-.92-.59-1.43-.59-.52 0-1.04.2-1.43.59L10.3 9.45l-7.72 7.72c-.78.78-.78 2.05 0 2.83L4 21.41c.39.39.9.59 1.41.59.51 0 1.02-.2 1.41-.59l7.78-7.78 2.81-2.81c.8-.78.8-2.07 0-2.86zM5.41 20L4 18.59l7.72-7.72 1.47 1.35L5.41 20z\"/>\n",
              "  </svg>\n",
              "      </button>\n",
              "      \n",
              "  <style>\n",
              "    .colab-df-container {\n",
              "      display:flex;\n",
              "      flex-wrap:wrap;\n",
              "      gap: 12px;\n",
              "    }\n",
              "\n",
              "    .colab-df-convert {\n",
              "      background-color: #E8F0FE;\n",
              "      border: none;\n",
              "      border-radius: 50%;\n",
              "      cursor: pointer;\n",
              "      display: none;\n",
              "      fill: #1967D2;\n",
              "      height: 32px;\n",
              "      padding: 0 0 0 0;\n",
              "      width: 32px;\n",
              "    }\n",
              "\n",
              "    .colab-df-convert:hover {\n",
              "      background-color: #E2EBFA;\n",
              "      box-shadow: 0px 1px 2px rgba(60, 64, 67, 0.3), 0px 1px 3px 1px rgba(60, 64, 67, 0.15);\n",
              "      fill: #174EA6;\n",
              "    }\n",
              "\n",
              "    [theme=dark] .colab-df-convert {\n",
              "      background-color: #3B4455;\n",
              "      fill: #D2E3FC;\n",
              "    }\n",
              "\n",
              "    [theme=dark] .colab-df-convert:hover {\n",
              "      background-color: #434B5C;\n",
              "      box-shadow: 0px 1px 3px 1px rgba(0, 0, 0, 0.15);\n",
              "      filter: drop-shadow(0px 1px 2px rgba(0, 0, 0, 0.3));\n",
              "      fill: #FFFFFF;\n",
              "    }\n",
              "  </style>\n",
              "\n",
              "      <script>\n",
              "        const buttonEl =\n",
              "          document.querySelector('#df-02053d49-d7a5-4669-94a5-e64f54cddea4 button.colab-df-convert');\n",
              "        buttonEl.style.display =\n",
              "          google.colab.kernel.accessAllowed ? 'block' : 'none';\n",
              "\n",
              "        async function convertToInteractive(key) {\n",
              "          const element = document.querySelector('#df-02053d49-d7a5-4669-94a5-e64f54cddea4');\n",
              "          const dataTable =\n",
              "            await google.colab.kernel.invokeFunction('convertToInteractive',\n",
              "                                                     [key], {});\n",
              "          if (!dataTable) return;\n",
              "\n",
              "          const docLinkHtml = 'Like what you see? Visit the ' +\n",
              "            '<a target=\"_blank\" href=https://colab.research.google.com/notebooks/data_table.ipynb>data table notebook</a>'\n",
              "            + ' to learn more about interactive tables.';\n",
              "          element.innerHTML = '';\n",
              "          dataTable['output_type'] = 'display_data';\n",
              "          await google.colab.output.renderOutput(dataTable, element);\n",
              "          const docLink = document.createElement('div');\n",
              "          docLink.innerHTML = docLinkHtml;\n",
              "          element.appendChild(docLink);\n",
              "        }\n",
              "      </script>\n",
              "    </div>\n",
              "  </div>\n",
              "  "
            ]
          },
          "metadata": {},
          "execution_count": 25
        }
      ]
    },
    {
      "cell_type": "code",
      "source": [
        "class my_logistic_reg:\n",
        "  def predict(self, X, w):\n",
        "      '''Bias col must be added before calling this fun'''\n",
        "      y_pred = X @ w\n",
        "      y_pred = 1/(1 + np.exp(-y_pred)) # apply sigmoid fun\n",
        "      return y_pred\n",
        "      \n",
        "  def fit(self, X, y, lr = 0.01,max_epochs=1000):\n",
        "      \n",
        "      X = np.c_[np.ones((X.shape[0], 1)), X] # add bias col where n_samples = X.shape[0]\n",
        "      y = np.array(y).reshape(-1,1)\n",
        "      precision = 0.00000000001\n",
        "      change_in_w = 1\n",
        "      w = np.random.rand(X.shape[1],1)\n",
        "      err_lst=[]\n",
        "      iter = 0\n",
        "\n",
        "      while( iter <= max_epochs):\n",
        "          prev_w = w\n",
        "          \n",
        "          y_pred = self.predict(X,w)\n",
        "\n",
        "          dE = X.T @ (y_pred - y)\n",
        "          \n",
        "          w = w - (lr*dE)\n",
        "          iter += 1\n",
        "          err_lst.append(np.abs(np.sum(y-y_pred)))\n",
        "\n",
        "      return w, err_lst\n",
        " "
      ],
      "metadata": {
        "id": "NTmPLia_0QVB"
      },
      "execution_count": 92,
      "outputs": []
    },
    {
      "cell_type": "code",
      "source": [
        "def find_accuracy(y_test, y_pred):\n",
        "  maxx = len(y_test)\n",
        "  c=0\n",
        "  for i in range(maxx):\n",
        "    if(y_test[i] == y_pred[i]):\n",
        "      c+= 1\n",
        "  \n",
        "  return c/maxx"
      ],
      "metadata": {
        "id": "nKVK96yRGHIt"
      },
      "execution_count": 62,
      "outputs": []
    },
    {
      "cell_type": "markdown",
      "source": [
        "#Using inbuilt lib"
      ],
      "metadata": {
        "id": "LIOzcANdXEss"
      }
    },
    {
      "cell_type": "code",
      "source": [
        "kf = KFold(n_splits=5)\n",
        "\n",
        "lst=[]\n",
        "X = df.iloc[:, :4]\n",
        "y = df.iloc[:, 4]\n",
        "reg_obj = LogisticRegression()\n",
        "\n",
        "for train_index, test_index in kf.split(X):\n",
        "  X_train, X_test = X.iloc[train_index, :], X.iloc[test_index, :] \n",
        "  y_train, y_test = y[train_index], y[test_index]\n",
        "  \n",
        "  reg_obj.fit(X_train,y_train)\n",
        "\n",
        "  y_pred= reg_obj.predict(X_test)\n",
        "  acc = find_accuracy(list(y_test), list(y_pred))\n",
        "  lst.append(acc)\n",
        "\n",
        "\n",
        "avg_accuracy = sum(lst)/5\n",
        "avg_accuracy"
      ],
      "metadata": {
        "colab": {
          "base_uri": "https://localhost:8080/",
          "height": 0
        },
        "id": "VOFgtRNF9ecD",
        "outputId": "83cb84c1-c027-4b7e-a8c9-64e0526787e4"
      },
      "execution_count": 65,
      "outputs": [
        {
          "output_type": "execute_result",
          "data": {
            "text/plain": [
              "0.9949999999999999"
            ]
          },
          "metadata": {},
          "execution_count": 65
        }
      ]
    },
    {
      "cell_type": "markdown",
      "source": [
        "#using custom class"
      ],
      "metadata": {
        "id": "nX7608uaXIAQ"
      }
    },
    {
      "cell_type": "code",
      "source": [
        "reg_obj = my_logistic_reg()\n",
        "lst = []\n",
        "for train_index, test_index in kf.split(X):\n",
        "  X_train, X_test = X.iloc[train_index, :], X.iloc[test_index, :] \n",
        "  y_train, y_test = y[train_index], y[test_index]\n",
        "  \n",
        "  w, err_lst = reg_obj.fit(X_train, y_train, lr = 0.01,max_epochs=8000) \n",
        "\n",
        "  X_test = np.c_[np.ones((X_test.shape[0], 1)), X_test] # add bias col in x before predict \n",
        "  y_pred= reg_obj.predict(X_test, w)\n",
        "\n",
        "  acc = find_accuracy(list(y_test), list(y_pred))\n",
        "  lst.append(acc)\n",
        "\n",
        "avg_accuracy = sum(lst)/5\n",
        "avg_accuracy"
      ],
      "metadata": {
        "colab": {
          "base_uri": "https://localhost:8080/",
          "height": 0
        },
        "id": "6X1QdmAN1Ydb",
        "outputId": "f38e00bf-2c8a-48ec-9113-10126d28bda1"
      },
      "execution_count": 96,
      "outputs": [
        {
          "output_type": "stream",
          "name": "stderr",
          "text": [
            "/usr/local/lib/python3.7/dist-packages/ipykernel_launcher.py:5: RuntimeWarning: overflow encountered in exp\n",
            "  \"\"\"\n"
          ]
        },
        {
          "output_type": "execute_result",
          "data": {
            "text/plain": [
              "0.7000000000000001"
            ]
          },
          "metadata": {},
          "execution_count": 96
        }
      ]
    },
    {
      "cell_type": "markdown",
      "source": [
        "I started with 1000 epochs, but got 0.58244 avg_accuracy. I was keep increasing to check its effect on avg_accuracy, finally at lr = 0.01,max_epochs=8000 I got 0.7 avg_accuracy."
      ],
      "metadata": {
        "id": "2WfDBmopVsFp"
      }
    },
    {
      "cell_type": "code",
      "source": [
        ""
      ],
      "metadata": {
        "id": "pqbcjFBqWiWo"
      },
      "execution_count": null,
      "outputs": []
    }
  ]
}