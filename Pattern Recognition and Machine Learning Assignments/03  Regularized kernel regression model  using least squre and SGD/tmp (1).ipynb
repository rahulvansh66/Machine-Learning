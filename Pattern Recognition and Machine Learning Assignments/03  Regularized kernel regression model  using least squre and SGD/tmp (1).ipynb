{
  "cells": [
    {
      "cell_type": "markdown",
      "source": [
        "#Import lib and Generate_dataset class"
      ],
      "metadata": {
        "id": "CLeJ69fbkWvh"
      }
    },
    {
      "cell_type": "code",
      "execution_count": 73,
      "metadata": {
        "id": "40vQJn2EpGA1"
      },
      "outputs": [],
      "source": [
        "import numpy as np\n",
        "import matplotlib.pyplot as plt\n",
        "# m: no of samples \n",
        "# n : no of features"
      ]
    },
    {
      "cell_type": "code",
      "execution_count": 74,
      "metadata": {
        "id": "kKrrSG1UxBpL"
      },
      "outputs": [],
      "source": [
        "# m: no of samples \n",
        "# n : no of features\n",
        "class Generate_dataset:\n",
        "\n",
        "  def getTrainSet(self, m, n):\n",
        "    X = np.sort(np.random.uniform(0.0, 1.0, (m*n))).reshape(m, n) # sort will help to plot data properly \n",
        "    return X\n",
        "\n",
        "  def getTestSet(self, X):\n",
        "    m = X.shape[0]\n",
        "    ep = np.random.normal(loc=0.0, scale =0.25, size =m) # eplsilon\n",
        "    y = np.array([np.sin(2*np.pi*np.linalg.norm(X[i]))+ ep[i] for i in range(m)]).reshape(m,1)\n",
        "\n",
        "    return y\n",
        "    \n"
      ]
    },
    {
      "cell_type": "markdown",
      "source": [
        "#SVR class"
      ],
      "metadata": {
        "id": "rpckfbtakiaf"
      }
    },
    {
      "cell_type": "code",
      "execution_count": 78,
      "metadata": {
        "id": "phBPhu2Aqnkh"
      },
      "outputs": [],
      "source": [
        "class SVR:\n",
        "  def rbf_kernal_fun(self, x,y):\n",
        "    sigma= 1.2\n",
        "    #K = np.exp(-(1 / (sigma**2)) * np.sum((x-y)**2))\n",
        "    K = np.exp(-(1 / (sigma**2)) * np.linalg.norm(((x-y))**2))\n",
        "    return K\n",
        "\n",
        "  def construct_kernel_matrix(self, x1, x2, sigma=1):\n",
        "\n",
        "    # applying kernel fun to each combinations of test set samples \n",
        "    K = np.zeros((x1.shape[0],x2.shape[0]))\n",
        "    for i in range(x1.shape[0]):\n",
        "      for j in range(x2.shape[0]):\n",
        "        K[i,j] = self.rbf_kernal_fun(x1[i,:], x2[j,:])\n",
        "    \n",
        "    # K : m x m\n",
        "    return K\n",
        "\n",
        "    ''' \n",
        "    # X : m * n\n",
        "    #||x-y||^2 = ||x||^2 + ||y||^2 - 2 * x * y^T : optimized way\n",
        "    # https://stackoverflow.com/questions/47271662/what-is-the-fastest-way-to-compute-an-rbf-kernel-in-python\n",
        "\n",
        "    X_norm = np.sum(X ** 2, axis = 1)\n",
        "    K = np.exp(- (1/(sigma**2)) * (X_norm[:,None] + X_norm[None,:] - 2 * (X @ X.T)))'''\n",
        "\n",
        "  def fit_direct(self, X,y, lamda):\n",
        "    x1 = X[:, 0].reshape((X.shape[0],1))\n",
        "    x2 = X[:, 1].reshape((X.shape[0],1))\n",
        "    K = self.construct_kernel_matrix(x1,x2)\n",
        "    I = np.identity(X.shape[0]+1) #np.eye(np.size( K , 1))\n",
        "\n",
        "    #add col at end bias\n",
        "    K = np.insert(K, -1, 1, axis=1) # for bias insert 1 extra col of 1s at lst col\n",
        "    #I = np.insert(I, -1, 0, axis=1) # for bias insert 1 extra col of 0s at lst col\n",
        "    print((K.T @ K).shape, K.T.shape, y.shape)\n",
        "    theta = np.linalg.pinv( (K.T @ K) + (lamda * I )) @ (K.T @ y)\n",
        "\n",
        "    return K, theta\n",
        "\n",
        "  def predict_direct(self, xTest, xTrain, theta):\n",
        "\n",
        "    K = self.construct_kernel_matrix(xTest,xTrain)\n",
        "    K = np.insert(K, -1, 1, axis=1) # for bias insert 1 extra col of 1s at 0th col\n",
        "    print(K.shape, theta.shape)\n",
        "    Y_pred = K @ theta\n",
        "\n",
        "    return Y_pred\n",
        "\n",
        "\n",
        "  def find_rmse(self, y, y_pred):\n",
        "    x = np.sqrt(np.mean((y_pred - y)**2))\n",
        "    return x\n",
        "\n",
        "\n",
        "  def pltGraph(self, X, y, y_pred):\n",
        "    #fig = plt.figure(figsize=(9, 6))\n",
        "    x1 = X[:, 0].reshape((X.shape[0],1))\n",
        "    x2 = X[:, 1].reshape((X.shape[0],1))\n",
        "    #print(x1.shape,x2.shape,y.shape,y_pred.shape )\n",
        "    # Create 3D container\n",
        "    ax = plt.axes(projection = '3d')\n",
        "    ax.scatter3D(x1,x2,y, 'y')\n",
        "    # Visualize 3D scatter plot\n",
        "    ax.plot3D(x1, x2,y_pred.flatten() ,'g')\n",
        "\n",
        "    # Give labels\n",
        "    ax.set_xlabel('x1')\n",
        "    ax.set_ylabel('X2')\n",
        "    ax.set_zlabel('Y')\n",
        "\n",
        "  def new_plot(self, X, y_test, y_pred):\n",
        "    fig = plt.figure(figsize=(9, 6))\n",
        "    x1 = X[:, 0].reshape((X.shape[0],1))\n",
        "    x2 = X[:, 1].reshape((X.shape[0],1))\n",
        "    # Create 3D container\n",
        "    ax = plt.axes(projection = '3d')\n",
        "\n",
        "    # Visualize 3D scatter plot\n",
        "    ax.scatter3D(x1, x2,y_test)\n",
        "    #ax.scatter3D(x1, x2,y_pred)\n",
        "\n",
        "    # Give labels\n",
        "    ax.set_xlabel('x1_train')\n",
        "    ax.set_ylabel('X2_train')\n",
        "    ax.set_zlabel('Y_train')"
      ]
    },
    {
      "cell_type": "code",
      "execution_count": 79,
      "metadata": {
        "id": "EUaSsgkmz0_s",
        "colab": {
          "base_uri": "https://localhost:8080/"
        },
        "outputId": "4dbdfd57-277f-403c-8f17-dd896492076e"
      },
      "outputs": [
        {
          "output_type": "stream",
          "name": "stdout",
          "text": [
            "(401, 401) (401, 400) (400, 1)\n",
            "(200, 401) (401, 1)\n"
          ]
        },
        {
          "output_type": "execute_result",
          "data": {
            "text/plain": [
              "6.403027838308689"
            ]
          },
          "metadata": {},
          "execution_count": 79
        }
      ],
      "source": [
        "data = Generate_dataset()\n",
        "xTrain = data.getTrainSet(400, 2)\n",
        "yTrain = data.getTestSet(xTrain)\n",
        "\n",
        "xTest = data.getTrainSet(200,2)\n",
        "yTest = data.getTestSet(xTest)\n",
        "\n",
        "my = SVR()\n",
        "K, theta = my.fit_direct(xTrain, yTrain, 0.005)\n",
        "y_pred = my.predict_direct(xTest, xTrain, theta)\n",
        "x=my.find_rmse(yTest,y_pred)\n",
        "x"
      ]
    },
    {
      "cell_type": "markdown",
      "source": [
        "#consider till above"
      ],
      "metadata": {
        "id": "SfTfu88v9nNJ"
      }
    },
    {
      "cell_type": "code",
      "source": [
        ""
      ],
      "metadata": {
        "id": "wqEin1AAQXuk"
      },
      "execution_count": null,
      "outputs": []
    }
  ],
  "metadata": {
    "colab": {
      "collapsed_sections": [],
      "name": "ML_LA3",
      "provenance": []
    },
    "kernelspec": {
      "display_name": "Python 3",
      "name": "python3"
    },
    "language_info": {
      "name": "python"
    }
  },
  "nbformat": 4,
  "nbformat_minor": 0
}